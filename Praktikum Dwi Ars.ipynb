{
 "cells": [
  {
   "cell_type": "markdown",
   "id": "3d841a21",
   "metadata": {},
   "source": [
    "## Import Library"
   ]
  },
  {
   "cell_type": "code",
   "execution_count": 2,
   "id": "64758fd2",
   "metadata": {},
   "outputs": [],
   "source": [
    "import cv2 as cv\n",
    "import numpy as np\n",
    "from matplotlib import pyplot as plt"
   ]
  },
  {
   "cell_type": "code",
   "execution_count": 3,
   "id": "6cf3db32",
   "metadata": {},
   "outputs": [],
   "source": [
    "daun = cv.imread('daun.png', 0)\n",
    "tinggi, lebar = daun.shape"
   ]
  },
  {
   "cell_type": "code",
   "execution_count": 4,
   "id": "9b18e54f",
   "metadata": {},
   "outputs": [],
   "source": [
    "cv.imshow(\"citra asli\", daun)\n",
    "cv.waitKey(0)\n",
    "cv.destroyAllWindows()"
   ]
  },
  {
   "cell_type": "markdown",
   "id": "5bf7dfef",
   "metadata": {},
   "source": [
    "## Pengembangan Dwi Aras Dengan Perkiraan Nilai Ambang"
   ]
  },
  {
   "cell_type": "code",
   "execution_count": 13,
   "id": "35369f8e",
   "metadata": {},
   "outputs": [],
   "source": [
    "nilai_ambang = 120\n",
    "daun_hasil = daun.copy()\n",
    "for x in range (tinggi):\n",
    "    for y in range (lebar):\n",
    "        if daun [x,y] < nilai_ambang:\n",
    "            daun_hasil[x,y] = 0\n",
    "        else:\n",
    "            daun_hasil[x,y] = 225"
   ]
  },
  {
   "cell_type": "code",
   "execution_count": 14,
   "id": "ad665f93",
   "metadata": {},
   "outputs": [],
   "source": [
    "cv.imshow(\"Aras Daun\", daun_hasil)\n",
    "cv.waitKey(0)\n",
    "cv.destroyAllWindows()"
   ]
  },
  {
   "cell_type": "markdown",
   "id": "06b6d0f9",
   "metadata": {},
   "source": [
    "## Menentukan Nilai Ambang Suatu Citra"
   ]
  },
  {
   "cell_type": "code",
   "execution_count": 11,
   "id": "e9d0e739",
   "metadata": {},
   "outputs": [],
   "source": [
    "def titeratif(image):\n",
    "    tinggi, lebar = image.shape\n",
    "    t0 = 127\n",
    "    while(True):\n",
    "        rata_kiri = 0;\n",
    "        rata_kanan = 0;\n",
    "        jum_kiri = 0;\n",
    "        jum_kanan = 0;\n",
    "        for x in range(tinggi):\n",
    "            for y in range(lebar):\n",
    "                if(image[x,y] <= 127):\n",
    "                    rata_kiri = rata_kiri + image[x,y]\n",
    "                    jum_kiri = jum_kiri + 1\n",
    "                else:\n",
    "                    rata_kanan = rata_kanan + image[x,y]\n",
    "                    jum_kanan = jum_kanan + 1\n",
    "                    \n",
    "        rata_kiri = rata_kiri/jum_kiri\n",
    "        rata_kanan = rata_kanan/jum_kanan\n",
    "        t1 = (rata_kiri + rata_kanan)/2\n",
    "        if ((t0 - t1) < 1):\n",
    "            break\n",
    "        t0 = t1\n",
    "    return round(t1)              "
   ]
  },
  {
   "cell_type": "code",
   "execution_count": 12,
   "id": "b9bcd10a",
   "metadata": {},
   "outputs": [
    {
     "data": {
      "text/plain": [
       "131"
      ]
     },
     "execution_count": 12,
     "metadata": {},
     "output_type": "execute_result"
    }
   ],
   "source": [
    "titeratif(daun)"
   ]
  },
  {
   "cell_type": "markdown",
   "id": "6c6907d6",
   "metadata": {},
   "source": [
    "## Aras Jamak"
   ]
  },
  {
   "cell_type": "code",
   "execution_count": 17,
   "id": "a0e876b1",
   "metadata": {},
   "outputs": [],
   "source": [
    "bentuk = cv.imread('arasJamak.png', 0)\n",
    "tinggi, lebar = bentuk.shape"
   ]
  },
  {
   "cell_type": "code",
   "execution_count": 23,
   "id": "0775f7ab",
   "metadata": {},
   "outputs": [],
   "source": [
    "def arasjamak(image, t1, t2):\n",
    "    res = image\n",
    "    m, n = image.shape\n",
    "    for x in range (m):\n",
    "        for y in range(n):\n",
    "            if (image[x,y] <= t1) or (image[x,y] >= t2):\n",
    "                res[x,y] = 0\n",
    "            else:\n",
    "                res[x,y] = 255\n",
    "    return res"
   ]
  },
  {
   "cell_type": "code",
   "execution_count": 24,
   "id": "7c561a89",
   "metadata": {},
   "outputs": [],
   "source": [
    "bentukArasJamak = arasjamak(bentuk, 185, 200)"
   ]
  },
  {
   "cell_type": "code",
   "execution_count": 26,
   "id": "e1833918",
   "metadata": {},
   "outputs": [],
   "source": [
    "cv.imshow('Gambar Aras Jamak', bentukArasJamak)\n",
    "cv.waitKey(0)\n",
    "cv.destroyAllWindows()"
   ]
  }
 ],
 "metadata": {
  "kernelspec": {
   "display_name": "Python 3 (ipykernel)",
   "language": "python",
   "name": "python3"
  },
  "language_info": {
   "codemirror_mode": {
    "name": "ipython",
    "version": 3
   },
   "file_extension": ".py",
   "mimetype": "text/x-python",
   "name": "python",
   "nbconvert_exporter": "python",
   "pygments_lexer": "ipython3",
   "version": "3.10.6"
  }
 },
 "nbformat": 4,
 "nbformat_minor": 5
}
